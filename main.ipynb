{
 "cells": [
  {
   "cell_type": "code",
   "execution_count": 1,
   "metadata": {},
   "outputs": [
    {
     "name": "stderr",
     "output_type": "stream",
     "text": [
      "/home/adrian/Projects/RLHF4Hate/venv/lib/python3.12/site-packages/tqdm/auto.py:21: TqdmWarning: IProgress not found. Please update jupyter and ipywidgets. See https://ipywidgets.readthedocs.io/en/stable/user_install.html\n",
      "  from .autonotebook import tqdm as notebook_tqdm\n",
      "Some weights of RobertaModel were not initialized from the model checkpoint at roberta-large and are newly initialized: ['roberta.pooler.dense.bias', 'roberta.pooler.dense.weight']\n",
      "You should probably TRAIN this model on a down-stream task to be able to use it for predictions and inference.\n"
     ]
    },
    {
     "name": "stdout",
     "output_type": "stream",
     "text": [
      "Epoch 1/1, Loss: 0.6871485710144043\n",
      "New best loss: 0.6871485710144043. Saving model checkpoint...\n",
      "Training finished. Best model saved to best_model_checkpoint.pth\n"
     ]
    }
   ],
   "source": [
    "from RewardModel import RewardModelTrainer, SentencePairDataset\n",
    "from RewardModel import RoBERTaRewardModel\n",
    "from transformers import RobertaTokenizer\n",
    "from torch.utils.data import DataLoader\n",
    "\n",
    "\n",
    "# Example data: List of tuples with (context, good example, bad example)\n",
    "data = [\n",
    "    (\"The sun is shining\", \"It is a bright day\", \"It is raining\"),\n",
    "    (\"The car is fast\", \"It accelerates quickly\", \"It moves slowly\"),\n",
    "]\n",
    "\n",
    "# Initialize the tokenizer\n",
    "tokenizer = RobertaTokenizer.from_pretrained('roberta-large')\n",
    "\n",
    "# Create dataset and dataloader\n",
    "dataset = SentencePairDataset(data, tokenizer, max_length=16)\n",
    "dataloader = DataLoader(dataset, batch_size=100, shuffle=True)\n",
    "\n",
    "model = RoBERTaRewardModel()\n",
    "\n",
    "rmt = RewardModelTrainer(model, dataloader, 1, 0.1)\n",
    "\n",
    "rmt.train()"
   ]
  },
  {
   "cell_type": "code",
   "execution_count": 3,
   "metadata": {},
   "outputs": [
    {
     "data": {
      "text/plain": [
       "tensor(20.1370, grad_fn=<MeanBackward0>)"
      ]
     },
     "execution_count": 3,
     "metadata": {},
     "output_type": "execute_result"
    }
   ],
   "source": [
    "tok_text = tokenizer(\"<s>Hello you Oreo</s>Yummy yes</s>\", return_tensors=\"pt\")\n",
    "\n",
    "rmt.model(**tok_text)"
   ]
  }
 ],
 "metadata": {
  "kernelspec": {
   "display_name": "venv",
   "language": "python",
   "name": "python3"
  },
  "language_info": {
   "codemirror_mode": {
    "name": "ipython",
    "version": 3
   },
   "file_extension": ".py",
   "mimetype": "text/x-python",
   "name": "python",
   "nbconvert_exporter": "python",
   "pygments_lexer": "ipython3",
   "version": "3.12.3"
  }
 },
 "nbformat": 4,
 "nbformat_minor": 2
}
